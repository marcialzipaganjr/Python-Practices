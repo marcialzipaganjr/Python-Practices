{
 "cells": [
  {
   "cell_type": "code",
   "execution_count": 47,
   "id": "6a7a08cb",
   "metadata": {},
   "outputs": [],
   "source": [
    "def spy_game(*args):\n",
    "    counter = 0\n",
    "    for num in args:\n",
    "        if num == 0:\n",
    "            counter+=1\n",
    "        if counter == 2 and num == 7:\n",
    "            return True\n",
    "        #Special Case: if theres a 7 inbetween zeroes, it should resets until it meets two zeroes without seven in between\n",
    "        elif counter == 1 and num == 7:\n",
    "            counter = 0\n",
    "    return False\n",
    "            "
   ]
  },
  {
   "cell_type": "code",
   "execution_count": 48,
   "id": "f6a151ec",
   "metadata": {},
   "outputs": [
    {
     "data": {
      "text/plain": [
       "False"
      ]
     },
     "execution_count": 48,
     "metadata": {},
     "output_type": "execute_result"
    }
   ],
   "source": [
    "spy_game(0,7,8,0,1,7,8,0,1,7,2,0,4,5,0)"
   ]
  },
  {
   "cell_type": "code",
   "execution_count": 90,
   "id": "bbb6b861",
   "metadata": {},
   "outputs": [],
   "source": [
    "def is_odd(num):\n",
    "    if num%2!=0:\n",
    "        return True\n",
    "    return False"
   ]
  },
  {
   "cell_type": "code",
   "execution_count": 99,
   "id": "e3c9adc1",
   "metadata": {},
   "outputs": [],
   "source": [
    "def count_primes(start,end):\n",
    "    count = 0\n",
    "    if start < 2:     \n",
    "        start = 2\n",
    "        counter = 1\n",
    "        print(2)\n",
    "    \n",
    "    for num in range(start,end+1):\n",
    "        if is_odd(num) == True:\n",
    "            if num!=3 and num!=5 and num!=7:\n",
    "                if num%3 == 0 or num%5 == 0 or num%7 == 0:\n",
    "                    continue\n",
    "            print(num)\n",
    "            counter+=1\n",
    "    print(f\"Prime Numbers: {counter}\")"
   ]
  },
  {
   "cell_type": "code",
   "execution_count": 100,
   "id": "a882bcc8",
   "metadata": {},
   "outputs": [
    {
     "name": "stdout",
     "output_type": "stream",
     "text": [
      "2\n",
      "3\n",
      "5\n",
      "7\n",
      "11\n",
      "13\n",
      "17\n",
      "19\n",
      "23\n",
      "29\n",
      "31\n",
      "37\n",
      "41\n",
      "43\n",
      "47\n",
      "53\n",
      "59\n",
      "61\n",
      "67\n",
      "71\n",
      "73\n",
      "79\n",
      "83\n",
      "89\n",
      "97\n",
      "Prime Numbers: 25\n"
     ]
    }
   ],
   "source": [
    "count_primes(1,100)"
   ]
  },
  {
   "cell_type": "code",
   "execution_count": 57,
   "id": "5a3ea7c5",
   "metadata": {},
   "outputs": [
    {
     "name": "stdout",
     "output_type": "stream",
     "text": [
      "2\n"
     ]
    }
   ],
   "source": []
  },
  {
   "cell_type": "code",
   "execution_count": 15,
   "id": "9f21cdb7",
   "metadata": {},
   "outputs": [],
   "source": [
    "class Line:\n",
    "    def __init__(self,val1,val2):\n",
    "        self.val1 = val1\n",
    "        self.val2 = val2\n",
    "        \n",
    "    def distance(self):\n",
    "        x1,y1 = self.val1\n",
    "        print(x1)\n",
    "        print(y1)\n",
    "    \n",
    "    def slope(self):\n",
    "        pass"
   ]
  },
  {
   "cell_type": "code",
   "execution_count": 16,
   "id": "bca83fc1",
   "metadata": {},
   "outputs": [],
   "source": [
    "line1 = Line((3,2),(8,10))"
   ]
  },
  {
   "cell_type": "code",
   "execution_count": 17,
   "id": "be1549c3",
   "metadata": {},
   "outputs": [
    {
     "name": "stdout",
     "output_type": "stream",
     "text": [
      "3\n",
      "2\n"
     ]
    }
   ],
   "source": [
    "line1.distance()"
   ]
  },
  {
   "cell_type": "code",
   "execution_count": 110,
   "id": "28295413",
   "metadata": {},
   "outputs": [],
   "source": [
    "class Account:\n",
    "    def __init__(self,owner,balance):\n",
    "        self.owner = owner\n",
    "        self.balance = balance\n",
    "        \n",
    "    def deposit(self,amount):\n",
    "        if amount < 0:\n",
    "            return print(\"Deposit cant be negative!\")\n",
    "        self.balance += amount\n",
    "    \n",
    "    def withdraw(self,amount):\n",
    "        if amount > self.balance:\n",
    "            return print(\"You have exceeded the balance amount!\")\n",
    "        self.balance -= amount\n",
    "        \n",
    "    def __str__(self):\n",
    "        return f\"Account owner: {self.owner}\\nBalance: {self.balance}\"\n",
    "        "
   ]
  },
  {
   "cell_type": "code",
   "execution_count": 111,
   "id": "687ff43d",
   "metadata": {},
   "outputs": [],
   "source": [
    "acc1 = Account(\"Marcial\",700)"
   ]
  },
  {
   "cell_type": "code",
   "execution_count": 112,
   "id": "8de4f5d8",
   "metadata": {},
   "outputs": [
    {
     "data": {
      "text/plain": [
       "700"
      ]
     },
     "execution_count": 112,
     "metadata": {},
     "output_type": "execute_result"
    }
   ],
   "source": [
    "acc1.balance"
   ]
  },
  {
   "cell_type": "code",
   "execution_count": 113,
   "id": "76034f4e",
   "metadata": {},
   "outputs": [],
   "source": [
    "acc1.deposit(800)"
   ]
  },
  {
   "cell_type": "code",
   "execution_count": 114,
   "id": "5867ea63",
   "metadata": {},
   "outputs": [
    {
     "data": {
      "text/plain": [
       "1500"
      ]
     },
     "execution_count": 114,
     "metadata": {},
     "output_type": "execute_result"
    }
   ],
   "source": [
    "acc1.balance"
   ]
  },
  {
   "cell_type": "code",
   "execution_count": 115,
   "id": "a51b9e26",
   "metadata": {},
   "outputs": [],
   "source": [
    "acc1.withdraw(500)"
   ]
  },
  {
   "cell_type": "code",
   "execution_count": 116,
   "id": "627977b8",
   "metadata": {},
   "outputs": [
    {
     "data": {
      "text/plain": [
       "1000"
      ]
     },
     "execution_count": 116,
     "metadata": {},
     "output_type": "execute_result"
    }
   ],
   "source": [
    "acc1.balance"
   ]
  },
  {
   "cell_type": "code",
   "execution_count": 117,
   "id": "84d1b793",
   "metadata": {},
   "outputs": [],
   "source": [
    "acc1.withdraw(299.99)"
   ]
  },
  {
   "cell_type": "code",
   "execution_count": 118,
   "id": "7e358311",
   "metadata": {},
   "outputs": [
    {
     "data": {
      "text/plain": [
       "700.01"
      ]
     },
     "execution_count": 118,
     "metadata": {},
     "output_type": "execute_result"
    }
   ],
   "source": [
    "acc1.balance"
   ]
  },
  {
   "cell_type": "code",
   "execution_count": 119,
   "id": "59f623cb",
   "metadata": {},
   "outputs": [
    {
     "name": "stdout",
     "output_type": "stream",
     "text": [
      "Account owner: Marcial\n",
      "Balance: 700.01\n"
     ]
    }
   ],
   "source": [
    "print(acc1)"
   ]
  },
  {
   "cell_type": "code",
   "execution_count": null,
   "id": "5042315d",
   "metadata": {},
   "outputs": [],
   "source": []
  },
  {
   "cell_type": "code",
   "execution_count": 3,
   "id": "fd8e6f23",
   "metadata": {},
   "outputs": [],
   "source": [
    "def squares(n):\n",
    "    \n",
    "    for num in range(n):\n",
    "        yield num**2\n",
    "    "
   ]
  },
  {
   "cell_type": "code",
   "execution_count": 4,
   "id": "ca1f117a",
   "metadata": {},
   "outputs": [
    {
     "name": "stdout",
     "output_type": "stream",
     "text": [
      "0\n",
      "1\n",
      "4\n",
      "9\n",
      "16\n",
      "25\n",
      "36\n",
      "49\n",
      "64\n",
      "81\n"
     ]
    }
   ],
   "source": [
    "for x in squares(10):\n",
    "    print(x)"
   ]
  },
  {
   "cell_type": "code",
   "execution_count": 1,
   "id": "ba98a162",
   "metadata": {},
   "outputs": [
    {
     "data": {
      "text/plain": [
       "3"
      ]
     },
     "execution_count": 1,
     "metadata": {},
     "output_type": "execute_result"
    }
   ],
   "source": [
    "def pattern(*args):\n",
    "    counter=0\n",
    "    for i in range (0, len(args)):\n",
    "        if args[i] == 0:\n",
    "            counter+=1\n",
    "            if counter==3:\n",
    "                counter-=1\n",
    "                \n",
    "        elif args[i] == 7 and counter == 2:\n",
    "            print(i)\n",
    "            return True\n",
    "    \n",
    "    return False\n",
    "\n",
    "pattern(1,0,7,0)\n",
    "\n",
    "def lesser_of_two_evens(*args):\n",
    "    even_counter = 0\n",
    "    odd_counter = 0\n",
    "    for i in range (0, len(args)):\n",
    "        if args[i]%2 == 0:\n",
    "            even_counter=even_counter+1\n",
    "        elif args[i]%2 != 0:\n",
    "            odd_counter=odd_counter+1\n",
    "    \n",
    "    if len(args) == even_counter:\n",
    "        return min(args)\n",
    "    elif len(args) == odd_counter:\n",
    "        return max(args)\n",
    "    else:\n",
    "        return False\n",
    "\n",
    "lesser_of_two_evens(1,3)\n",
    "\n"
   ]
  },
  {
   "cell_type": "code",
   "execution_count": null,
   "id": "fda95afa",
   "metadata": {},
   "outputs": [],
   "source": []
  }
 ],
 "metadata": {
  "kernelspec": {
   "display_name": "Python 3",
   "language": "python",
   "name": "python3"
  },
  "language_info": {
   "codemirror_mode": {
    "name": "ipython",
    "version": 3
   },
   "file_extension": ".py",
   "mimetype": "text/x-python",
   "name": "python",
   "nbconvert_exporter": "python",
   "pygments_lexer": "ipython3",
   "version": "3.8.8"
  }
 },
 "nbformat": 4,
 "nbformat_minor": 5
}
