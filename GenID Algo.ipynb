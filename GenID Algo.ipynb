{
 "cells": [
  {
   "cell_type": "code",
   "execution_count": 19,
   "id": "3c272582",
   "metadata": {},
   "outputs": [],
   "source": [
    "class Database():\n",
    "    id = []"
   ]
  },
  {
   "cell_type": "code",
   "execution_count": 20,
   "id": "103d3b19",
   "metadata": {},
   "outputs": [],
   "source": [
    "def tens(val):\n",
    "    ans = val/676000\n",
    "    return toAlphaCode(ans)"
   ]
  },
  {
   "cell_type": "code",
   "execution_count": 21,
   "id": "133d02aa",
   "metadata": {},
   "outputs": [],
   "source": [
    "def hundreds(val):\n",
    "    ans = val/26000\n",
    "    while(ans>26):\n",
    "        ans = ans/26\n",
    "    return toAlphaCode(ans)"
   ]
  },
  {
   "cell_type": "code",
   "execution_count": 22,
   "id": "efd2bd06",
   "metadata": {},
   "outputs": [],
   "source": [
    "def thousands(val):\n",
    "    mod = val%1000\n",
    "    tens = val - mod\n",
    "    ans = tens/1000\n",
    "\n",
    "    while(ans>26):\n",
    "        ans = ans-26\n",
    "\n",
    "    return toAlphaCode(ans)"
   ]
  },
  {
   "cell_type": "code",
   "execution_count": 23,
   "id": "dde60467",
   "metadata": {},
   "outputs": [],
   "source": [
    "def toAlphaCode(code):\n",
    "    alpha = ''\n",
    "    if ((code >= 0 and code <1) or code==26):\n",
    "        alpha = 'A'\n",
    "    elif (code >= 1 and code <2):\n",
    "        alpha = 'B'\n",
    "    elif (code >= 2 and code <3):\n",
    "        alpha ='c'\n",
    "    elif (code >= 3 and code <4):\n",
    "        alpha ='D'\n",
    "    elif (code >= 4 and code <5):\n",
    "        alpha ='E'\n",
    "    elif (code >= 5 and code <6):\n",
    "        alpha ='F'\n",
    "    elif (code >= 6 and code <7):\n",
    "        alpha ='G'\n",
    "    elif (code >= 7 and code <8):\n",
    "        alpha = 'H'\n",
    "    elif (code >= 8 and code <9):\n",
    "        alpha = 'I'\n",
    "    elif (code >= 9 and code <10):\n",
    "        alpha = 'J'\n",
    "    elif (code >= 10 and code <11):\n",
    "        alpha = 'K'\n",
    "    elif (code >= 11 and code <12):\n",
    "        alpha = 'L'\n",
    "    elif (code >= 12 and code <13):\n",
    "        alpha = 'M'\n",
    "    elif (code >= 13 and code <14):\n",
    "        alpha = 'N'\n",
    "    elif (code >= 14 and code <15):\n",
    "        alpha = 'O'\n",
    "    elif (code >= 15 and code <16):\n",
    "        alpha = 'P'\n",
    "    elif (code >= 16 and code <17):\n",
    "        alpha = 'Q'\n",
    "    elif (code >= 17 and code <18):\n",
    "        alpha = 'R'\n",
    "    elif (code >= 18 and code <19):\n",
    "        alpha = 'S'\n",
    "    elif (code >= 19 and code <20):\n",
    "        alpha = 'T'\n",
    "    elif (code >= 20 and code <21):\n",
    "        alpha = 'U'\n",
    "    elif (code >= 21 and code <22):\n",
    "        alpha = 'V'\n",
    "    elif (code >= 22 and code <23):\n",
    "        alpha = 'W'\n",
    "    elif (code >= 23 and code <24):\n",
    "        alpha = 'X'\n",
    "    elif (code >= 24 and code <25):\n",
    "        alpha = 'Y'\n",
    "    elif (code >= 25 and code <26):\n",
    "        alpha = 'Z'\n",
    "    \n",
    "    return alpha"
   ]
  },
  {
   "cell_type": "code",
   "execution_count": 24,
   "id": "d62c7900",
   "metadata": {},
   "outputs": [],
   "source": [
    "def toNumCode(val):\n",
    "    mod = val%1000\n",
    "    \n",
    "    while(mod>1000):\n",
    "        mod /= 1000\n",
    "    return mod"
   ]
  },
  {
   "cell_type": "code",
   "execution_count": 25,
   "id": "8b68812f",
   "metadata": {},
   "outputs": [],
   "source": [
    "# users = Database()\n",
    "\n",
    "# for i in range(17,575,999):\n",
    "#     users.id.append('A')\n",
    "\n",
    "# for i in range(20):\n",
    "#     print(users.id[i])"
   ]
  },
  {
   "cell_type": "code",
   "execution_count": 34,
   "id": "26bbeda3",
   "metadata": {},
   "outputs": [
    {
     "name": "stdout",
     "output_type": "stream",
     "text": [
      "ANH235\n"
     ]
    }
   ],
   "source": [
    "val = 345235\n",
    "alphaCode = ''\n",
    "numCode = ''\n",
    "\n",
    "#letterCodes\n",
    "alphaCode = tens(val) + hundreds(val) + thousands(val)\n",
    "\n",
    "#NumberCodes\n",
    "numCode = toNumCode(val)\n",
    "\n",
    "if(len(str(numCode))==1):\n",
    "    numCode = '00' + str(numCode)\n",
    "elif(len(str(numCode))==2):\n",
    "    numCode = '0' + str(numCode)\n",
    "\n",
    "generatedID = alphaCode + str(numCode)\n",
    "\n",
    "users = {}\n",
    "users[val] = generatedID\n",
    "\n",
    "# users.id[val] = generatedID\n",
    "\n",
    "print(users[val])"
   ]
  },
  {
   "cell_type": "code",
   "execution_count": 36,
   "id": "64403fc9",
   "metadata": {},
   "outputs": [
    {
     "data": {
      "text/plain": [
       "'ANH235'"
      ]
     },
     "execution_count": 36,
     "metadata": {},
     "output_type": "execute_result"
    }
   ],
   "source": [
    "users[345235]"
   ]
  },
  {
   "cell_type": "code",
   "execution_count": 37,
   "id": "7475543f",
   "metadata": {},
   "outputs": [
    {
     "data": {
      "text/plain": [
       "{345235: 'ANH235'}"
      ]
     },
     "execution_count": 37,
     "metadata": {},
     "output_type": "execute_result"
    }
   ],
   "source": [
    "users"
   ]
  },
  {
   "cell_type": "code",
   "execution_count": null,
   "id": "9183b3b8",
   "metadata": {},
   "outputs": [],
   "source": []
  }
 ],
 "metadata": {
  "kernelspec": {
   "display_name": "Python 3",
   "language": "python",
   "name": "python3"
  },
  "language_info": {
   "codemirror_mode": {
    "name": "ipython",
    "version": 3
   },
   "file_extension": ".py",
   "mimetype": "text/x-python",
   "name": "python",
   "nbconvert_exporter": "python",
   "pygments_lexer": "ipython3",
   "version": "3.8.8"
  }
 },
 "nbformat": 4,
 "nbformat_minor": 5
}
